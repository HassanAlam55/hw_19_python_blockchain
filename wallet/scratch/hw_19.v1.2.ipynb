{
 "cells": [
  {
   "cell_type": "code",
   "execution_count": 6,
   "id": "806bc2c2-d525-4cf3-9dd6-74c32f2d6484",
   "metadata": {},
   "outputs": [],
   "source": [
    "# Import dependencies\n",
    "import subprocess\n",
    "import json\n",
    "from dotenv import load_dotenv\n"
   ]
  },
  {
   "cell_type": "code",
   "execution_count": 30,
   "id": "f7d41eee-534a-4326-a4dc-9559769678bd",
   "metadata": {},
   "outputs": [],
   "source": [
    "from constants import *\n",
    "from web3 import Web3\n",
    "from eth_account import Account\n",
    "from bit import wif_to_key\n",
    "from bit import PrivateKeyTestnet\n",
    "from bit.network import NetworkAPI\n",
    "from web3.auto.gethdev import w3\n",
    "from web3.middleware import geth_poa_middleware"
   ]
  },
  {
   "cell_type": "code",
   "execution_count": 8,
   "id": "cb549f96-042f-40be-b588-29383d95be54",
   "metadata": {},
   "outputs": [],
   "source": [
    "import os"
   ]
  },
  {
   "cell_type": "code",
   "execution_count": 2,
   "id": "98d6309c-530d-4fce-8a7e-8dba44ea4dd7",
   "metadata": {},
   "outputs": [
    {
     "name": "stdout",
     "output_type": "stream",
     "text": [
      "Collecting python-dotenv\n",
      "  Downloading python_dotenv-0.19.0-py2.py3-none-any.whl (17 kB)\n",
      "Installing collected packages: python-dotenv\n",
      "Successfully installed python-dotenv-0.19.0\n"
     ]
    }
   ],
   "source": [
    "# !pip install python-dotenv"
   ]
  },
  {
   "cell_type": "code",
   "execution_count": 9,
   "id": "193bac67-e1d5-42c7-aaa7-d70ff9092e81",
   "metadata": {},
   "outputs": [],
   "source": [
    "# Load and set environment variables\n",
    "load_dotenv('block.env')\n",
    "mnemonic=os.getenv(\"mnemonic\")"
   ]
  },
  {
   "cell_type": "code",
   "execution_count": 10,
   "id": "84be084a-80ed-4ea3-977c-3a107e8062c2",
   "metadata": {},
   "outputs": [
    {
     "data": {
      "text/plain": [
       "'barrel attack mammal crash expect note alcohol offer then worth kid current'"
      ]
     },
     "execution_count": 10,
     "metadata": {},
     "output_type": "execute_result"
    }
   ],
   "source": [
    "# mnemonic"
   ]
  },
  {
   "cell_type": "code",
   "execution_count": 11,
   "id": "4209ab9f-08af-4197-9ee0-d499e73c3725",
   "metadata": {},
   "outputs": [],
   "source": [
    "# Import constants.py and necessary functions from bit and web3\n",
    "# YOUR CODE HERE\n",
    "from constants import *"
   ]
  },
  {
   "cell_type": "code",
   "execution_count": null,
   "id": "af2fc004-5c12-4c54-bdb4-54ae313475ba",
   "metadata": {},
   "outputs": [],
   "source": [
    "# command = 'php C:/Users/Hassan/Dropbox/GithubRepo/ColumbiaFintechLab/HomeWork/hw_19_python_blockchain/wallet/hd-wallet-derive/hd-wallet-derive.php -g --mnemonic=\"barrel attack mammal crash expect note alcohol offer then worth kid current\" --cols=path,address,privkey,pubkey --format=json'"
   ]
  },
  {
   "cell_type": "code",
   "execution_count": 17,
   "id": "3409f8d5-595f-46d1-83f3-d89e2bd2ad68",
   "metadata": {},
   "outputs": [
    {
     "name": "stdout",
     "output_type": "stream",
     "text": [
      "output: \n",
      " b'\\n[\\n    {\\n        \"path\": \"m\\\\/44\\'\\\\/60\\'\\\\/0\\'\\\\/0\\\\/0\",\\n        \"address\": \"0x8bc5B9E151ba870AEfb5E8442245346ec331D49a\",\\n        \"privkey\": \"0xca0b23082032e82f88467e833fb445ca3e2d1e790d1e48406668066cfadde225\",\\n        \"pubkey\": \"02f474b4b54f9aca71178603763000ff01bfa62cd92399a0c73ff0342b851915e9\"\\n    },\\n    {\\n        \"path\": \"m\\\\/44\\'\\\\/60\\'\\\\/0\\'\\\\/0\\\\/1\",\\n        \"address\": \"0x43c372e543aCcFe81e249e0b6f0B2a959F5f7720\",\\n        \"privkey\": \"0xe99af3ca987b37fff676cc85e492201973632028d80f05d5a877edf48c5db018\",\\n        \"pubkey\": \"03c63bc9d03cf6ae9932525442337ebb8622fb5a9ab36f8c92ca22302ca863ccd7\"\\n    },\\n    {\\n        \"path\": \"m\\\\/44\\'\\\\/60\\'\\\\/0\\'\\\\/0\\\\/2\",\\n        \"address\": \"0x8F3dC31f28521d04dd650ad24392b30BAeEe9ec6\",\\n        \"privkey\": \"0xdc947f03bb047782d59b32ed2afbb940390b248e171d585293bef8d824a5ea99\",\\n        \"pubkey\": \"02eb7df72e97f8a5a8c1848083f7da9c11bda28dd67d21fea248e36bc719df7f99\"\\n    }\\n]\\n'\n",
      "error: \n",
      " None\n",
      "0xca0b23082032e82f88467e833fb445ca3e2d1e790d1e48406668066cfadde225\n"
     ]
    }
   ],
   "source": [
    "# delete test code\n",
    "import subprocess\n",
    "import json\n",
    "\n",
    "ETH = 'eth'\n",
    "n_dr = 3\n",
    "frmt = \"json\"\n",
    "# command = f'php C:/Users/Hassan/Dropbox/GithubRepo/ColumbiaFintechLab/HomeWork/hw_19_python_blockchain/wallet/hd-wallet-derive/hd-wallet-derive.php -g --mnemonic=\"barrel attack mammal crash expect note alcohol offer then worth kid current\" --cols=path,address,privkey,pubkey --coin={ETH} --numderive=3 --format=json'# .\\hd-wallet-derive\\hd-wallet-derive.php -g --mnemonic=\"barrel attack mammal crash expect note alcohol offer then worth kid current\" --cols=path,address,privkey,pubkey --format=json\n",
    "# command = f'php ./hd-wallet-derive/hd-wallet-derive.php -g --mnemonic=\"barrel attack mammal crash expect note alcohol offer then worth kid current\" --cols=path,address,privkey,pubkey --coin={ETH} --numderive=3 --format=json'# .\\hd-wallet-derive\\hd-wallet-derive.php -g --mnemonic=\"barrel attack mammal crash expect note alcohol offer then worth kid current\" --cols=path,address,privkey,pubkey --format=json\n",
    "command = f'php ./hd-wallet-derive/hd-wallet-derive.php -g --mnemonic=\"{mnemonic}\"\"\\ --cols=path,address,privkey,pubkey --coin=\"{ETH}\" --numderive=\"{n_dr}\" --format=\"{frmt}\"'\n",
    "\n",
    "# PS C:\\Users\\Hassan\\Dropbox\\GithubRepo\\ColumbiaFintechLab\\HomeWork\\hw_19_python_blockchain\\wallet>\n",
    "\n",
    "# C:\\Users\\Hassan\\Dropbox\\GithubRepo\\ColumbiaFintechLab\\HomeWork\\hw_19_python_blockchain\\wallet\\hd-wallet-derive\\hd-wallet-derive.php\n",
    "p = subprocess.Popen(command, stdout=subprocess.PIPE, shell=True)\n",
    "output, err = p.communicate()\n",
    "p_status = p.wait()\n",
    "print (f'output: \\n {output}')\n",
    "print (f'error: \\n {err}')\n",
    "keys = json.loads(output)\n",
    "print (keys[0]['privkey'])"
   ]
  },
  {
   "cell_type": "code",
   "execution_count": 14,
   "id": "9c2e9f5c-2f6b-4b4a-a5ce-9ed28cc7a4a0",
   "metadata": {},
   "outputs": [
    {
     "name": "stdout",
     "output_type": "stream",
     "text": [
      "output: \n",
      " b'\\n[{\"path\":\"m\\\\/44\\'\\\\/60\\'\\\\/0\\'\\\\/0\\\\/0\",\"address\":\"0x8bc5B9E151ba870AEfb5E8442245346ec331D49a\",\"privkey\":\"0xca0b23082032e82f88467e833fb445ca3e2d1e790d1e48406668066cfadde225\",\"pubkey\":\"02f474b4b54f9aca71178603763000ff01bfa62cd92399a0c73ff0342b851915e9\"},{\"path\":\"m\\\\/44\\'\\\\/60\\'\\\\/0\\'\\\\/0\\\\/1\",\"address\":\"0x43c372e543aCcFe81e249e0b6f0B2a959F5f7720\",\"privkey\":\"0xe99af3ca987b37fff676cc85e492201973632028d80f05d5a877edf48c5db018\",\"pubkey\":\"03c63bc9d03cf6ae9932525442337ebb8622fb5a9ab36f8c92ca22302ca863ccd7\"},{\"path\":\"m\\\\/44\\'\\\\/60\\'\\\\/0\\'\\\\/0\\\\/2\",\"address\":\"0x8F3dC31f28521d04dd650ad24392b30BAeEe9ec6\",\"privkey\":\"0xdc947f03bb047782d59b32ed2afbb940390b248e171d585293bef8d824a5ea99\",\"pubkey\":\"02eb7df72e97f8a5a8c1848083f7da9c11bda28dd67d21fea248e36bc719df7f99\"}]'\n",
      "error: \n",
      " None\n"
     ]
    }
   ],
   "source": [
    "# delete test code\n",
    "import subprocess\n",
    "import json\n",
    "\n",
    "ETH = 'eth'\n",
    "n_dr = 3\n",
    "frmt = \"json\"\n",
    "# command = f'php C:/Users/Hassan/Dropbox/GithubRepo/ColumbiaFintechLab/HomeWork/hw_19_python_blockchain/wallet/hd-wallet-derive/hd-wallet-derive.php -g --mnemonic=\"barrel attack mammal crash expect note alcohol offer then worth kid current\" --cols=path,address,privkey,pubkey --coin={ETH} --numderive=3 --format=json'# .\\hd-wallet-derive\\hd-wallet-derive.php -g --mnemonic=\"barrel attack mammal crash expect note alcohol offer then worth kid current\" --cols=path,address,privkey,pubkey --format=json\n",
    "# command = f'php ./hd-wallet-derive/hd-wallet-derive.php -g --mnemonic=\"barrel attack mammal crash expect note alcohol offer then worth kid current\" --cols=path,address,privkey,pubkey --coin={ETH} --numderive=3 --format=json'# .\\hd-wallet-derive\\hd-wallet-derive.php -g --mnemonic=\"barrel attack mammal crash expect note alcohol offer then worth kid current\" --cols=path,address,privkey,pubkey --format=json\n",
    "command = f'php ./hd-wallet-derive/hd-wallet-derive.php -g --mnemonic=\"{mnemonic}\"\"\\ --cols=path,address,privkey,pubkey --coin=\"{ETH}\" --numderive=3 --format=json'# .\\hd-wallet-derive\\hd-wallet-derive.php -g --mnemonic=\"barrel attack mammal crash expect note alcohol offer then worth kid current\" --cols=path,address,privkey,pubkey --format=json\n",
    "\n",
    "# PS C:\\Users\\Hassan\\Dropbox\\GithubRepo\\ColumbiaFintechLab\\HomeWork\\hw_19_python_blockchain\\wallet>\n",
    "\n",
    "# C:\\Users\\Hassan\\Dropbox\\GithubRepo\\ColumbiaFintechLab\\HomeWork\\hw_19_python_blockchain\\wallet\\hd-wallet-derive\\hd-wallet-derive.php\n",
    "p = subprocess.Popen(command, stdout=subprocess.PIPE, shell=True)\n",
    "output, err = p.communicate()\n",
    "p_status = p.wait()\n",
    "print (f'output: \\n {output}')\n",
    "print (f'error: \\n {err}')\n",
    "# keys = json.loads(output)\n",
    "# print (keys[0]['privkey'])"
   ]
  },
  {
   "cell_type": "code",
   "execution_count": 23,
   "id": "1af763c6-6c7f-4c40-ab02-210258c3d012",
   "metadata": {},
   "outputs": [],
   "source": [
    "# Create a function called `derive_wallets`\n",
    "def derive_wallets(Mnemonic, Coin, Numderive, Format  ):\n",
    "#     command = # YOUR CODE HERE\n",
    "#     command = f'php C:/Users/Hassan/Dropbox/GithubRepo/ColumbiaFintechLab/HomeWork/hw_19_python_blockchain/wallet/hd-wallet-derive/hd-wallet-derive.php -g --mnemonic=\"{Mnemonic}\" --cols=path,address,privkey,pubkey --coin=\"{Coin}\" --numderive=\"{Numderive}\" --format=\"{Format}\"'\n",
    "    command = f'php ./hd-wallet-derive/hd-wallet-derive.php -g --mnemonic=\"{Mnemonic}\" --cols=path,address,privkey,pubkey --coin=\"{Coin}\" --numderive=\"{Numderive}\" --format=\"{Format}\"'\n",
    "    p = subprocess.Popen(command, stdout=subprocess.PIPE, shell=True)\n",
    "    output, err = p.communicate()\n",
    "    p_status = p.wait()\n",
    "    return json.loads(output)"
   ]
  },
  {
   "cell_type": "code",
   "execution_count": 24,
   "id": "a19832de-d545-4bc0-952e-07608c1c817c",
   "metadata": {},
   "outputs": [],
   "source": [
    "# Create a dictionary object called coins to store the output from `derive_wallets`.\n",
    "# coins = # YOUR CODE HERE\n",
    "coins = {\n",
    "    ETH: derive_wallets(mnemonic, ETH, 3,  'json'),\n",
    "    BTCTEST: derive_wallets(mnemonic, BTCTEST, 3,  'json')\n",
    "}"
   ]
  },
  {
   "cell_type": "code",
   "execution_count": 25,
   "id": "a014da8c-f4c4-4a9c-9f70-122be0e1c049",
   "metadata": {},
   "outputs": [
    {
     "data": {
      "text/plain": [
       "{'eth': [{'path': \"m/44'/60'/0'/0/0\",\n",
       "   'address': '0x4777eB1A1ad29C435b9051158E60314CB0C60f96',\n",
       "   'privkey': '0xe59a9585e052a4a7d2e0e85d71cf15b531904f9846a002dea70b2a4ad33ba3fc',\n",
       "   'pubkey': '03be5263fc23b0db31451bae011618b5472ee6577b1a63acdfad3982b25300d964'},\n",
       "  {'path': \"m/44'/60'/0'/0/1\",\n",
       "   'address': '0x70Bd998C8E5b68A86B0666Ec4D33ace4AdAb4e68',\n",
       "   'privkey': '0xe7a541d579efb2beecf7d4e810aaf62d624bb7b4984cd6b9eec34e7c4964b733',\n",
       "   'pubkey': '030ddf97232fa7e4e125f6e24768c39d8ce44e92887d49c5d159726ac29fa8bb28'},\n",
       "  {'path': \"m/44'/60'/0'/0/2\",\n",
       "   'address': '0x341d658cE19663a5A43987162618838dEBC443D6',\n",
       "   'privkey': '0xd82c9c478fd0a26af73b108b2121252e842943e93c135dc0c813981e3e84b11c',\n",
       "   'pubkey': '02cb0fef7919d0f5c4b34e78e28b7389cfbf99efedf51775570dd410679d60ff4b'}],\n",
       " 'btc-test': [{'path': \"m/44'/1'/0'/0/0\",\n",
       "   'address': 'ms4CqLw5Gz1z18ESxy4KXcgn5sWYfxnhzx',\n",
       "   'privkey': 'cQ9GFdiHmRGVYi5Pym3ndA2omGQR2hWUy6rxAFiHVfWHYDtnjZb2',\n",
       "   'pubkey': '02c32877af96f81a89174e36a89474a5998ce024724552b9f9133fd18f9278bfb1'},\n",
       "  {'path': \"m/44'/1'/0'/0/1\",\n",
       "   'address': 'mgLQNbnYcBHcgY5sCAWpQWQacznN3fDzQP',\n",
       "   'privkey': 'cQajcS5qa73DNpngCzqqNBXpjcH3rLPsEctRbf6sHTgAFPCzy9xu',\n",
       "   'pubkey': '038086f5bb9176e8d733372daa380b4da601c2f1973b112a0c291fa2af63b7d5a5'},\n",
       "  {'path': \"m/44'/1'/0'/0/2\",\n",
       "   'address': 'n3s9DzEcNgSCUU67vDRJyKFvV6JJZ4WJy4',\n",
       "   'privkey': 'cSVDhvSh2cPzwxVCnHrHnD2LhsjXEha88tN9v2GLY41bkhwF4ZwF',\n",
       "   'pubkey': '027bc31ca94620a4ede3b8be3ff5626993af7108c7bdc773a13831f8392237c425'}]}"
      ]
     },
     "execution_count": 25,
     "metadata": {},
     "output_type": "execute_result"
    }
   ],
   "source": [
    "# coins"
   ]
  },
  {
   "cell_type": "code",
   "execution_count": 31,
   "id": "e975ebeb-46cf-46fb-ab1b-c24595bf82c3",
   "metadata": {},
   "outputs": [],
   "source": [
    "# Create a function called `priv_key_to_account` that converts privkey strings to account objects.\n",
    "def priv_key_to_account(coin, priv_key):\n",
    "    # YOUR CODE HERE\n",
    "    if coin == ETH:\n",
    "        return Account.privateKeyToAccount(priv_key)# what is account\n",
    "    if coin == BTCTEST:\n",
    "        return PrivateKeyTestnet(priv_key)\n",
    "        \n",
    "    else:\n",
    "        return ('error')"
   ]
  },
  {
   "cell_type": "code",
   "execution_count": 33,
   "id": "30b7873d-4fc3-4bec-aadb-36d1184122d7",
   "metadata": {},
   "outputs": [
    {
     "data": {
      "text/plain": [
       "<eth_account.signers.local.LocalAccount at 0x29635f0ee08>"
      ]
     },
     "execution_count": 33,
     "metadata": {},
     "output_type": "execute_result"
    }
   ],
   "source": [
    "#delete test code\n",
    "eth_coins= coins['eth']\n",
    "eth1 = eth_coin[0]\n",
    "eth_prv_key1 = eth1['privkey']\n",
    "# eth_prf_key1\n",
    "\n",
    "Eth_act1 = priv_key_to_account(ETH, eth_prv_key1)\n",
    "Eth_act1"
   ]
  },
  {
   "cell_type": "code",
   "execution_count": 51,
   "id": "caff288f-a406-4838-84a7-a0820fc257d4",
   "metadata": {},
   "outputs": [
    {
     "data": {
      "text/plain": [
       "<PrivateKeyTestnet: ms4CqLw5Gz1z18ESxy4KXcgn5sWYfxnhzx>"
      ]
     },
     "execution_count": 51,
     "metadata": {},
     "output_type": "execute_result"
    }
   ],
   "source": [
    "# debug test code\n",
    "BTC_prv_key1 = coins ['btc-test'][0]['privkey']\n",
    "BTC_prv_key1\n",
    "BTC_act1 = priv_key_to_account ('btc-test',BTC_prv_key1 )\n",
    "BTC_act1"
   ]
  },
  {
   "cell_type": "code",
   "execution_count": 53,
   "id": "fb914c10-1a82-4d67-bd65-265f83b9ef7c",
   "metadata": {},
   "outputs": [],
   "source": [
    "# Create a function called `create_tx` that creates an unsigned transaction appropriate metadata.\n",
    "def create_tx(coin, account, recipient, amount):\n",
    "    # YOUR CODE HERE\n",
    "    # YOUR CODE HERE\n",
    "    if coin == ETH:\n",
    "       # need to fix parameters\n",
    "        gasEstimate = w3.eth.estimateGas(\n",
    "            {\"from\": account.address, \"to\": recipient, \"value\": amount}\n",
    "            )\n",
    "        return {\n",
    "            \"from\": account.address,\n",
    "            \"to\": recipient,\n",
    "            \"value\": amount,\n",
    "            \"gasPrice\": w3.eth.gasPrice,\n",
    "            \"gas\": gasEstimate,\n",
    "            \"nonce\": w3.eth.getTransactionCount(account.address),\n",
    "            }\n",
    "    \n",
    "    if coin == BTCTEST:\n",
    "        return PrivateKeyTestnet.prepare_transaction(account.address, [(recipient, amount, BTC)])\n",
    "    else:\n",
    "        return ('error')\n",
    "        "
   ]
  },
  {
   "cell_type": "code",
   "execution_count": null,
   "id": "695abb55-fa98-4319-8ff9-0727762452f6",
   "metadata": {},
   "outputs": [],
   "source": [
    "# delete test code\n",
    "eth_adr2 = coins['eth'][1]['address']\n",
    "# eth_ret = create_tx(ETH,Eth_act1, eth_adr2, 0.01  )\n",
    "w3 = Web3(Web3.HTTPProvider('http://127.0.0.1:8545'))\n",
    "account = Eth_act1\n",
    "recipient = eth_adr2\n",
    "amount = 0.01\n",
    "# w3.middleware_onion.inject(geth_poa_middleware, layer=0)\n",
    "# w3.eth.setGasPriceStrategy(medium_gas_price_strategy)\n",
    "gasEstimate = w3.eth.estimateGas(\n",
    "            {\"from\": account.address, \"to\": recipient, \"value\": amount}\n",
    "            )"
   ]
  },
  {
   "cell_type": "code",
   "execution_count": 56,
   "id": "f5ba5ed4-6fa0-46c9-afaf-67b318e68b2b",
   "metadata": {},
   "outputs": [
    {
     "ename": "ValueError",
     "evalue": "Transactions must have at least one unspent.",
     "output_type": "error",
     "traceback": [
      "\u001b[1;31m---------------------------------------------------------------------------\u001b[0m",
      "\u001b[1;31mValueError\u001b[0m                                Traceback (most recent call last)",
      "\u001b[1;32m<ipython-input-56-d0cd15284540>\u001b[0m in \u001b[0;36m<module>\u001b[1;34m\u001b[0m\n\u001b[0;32m      2\u001b[0m \u001b[0mBTC_adr2\u001b[0m \u001b[1;33m=\u001b[0m \u001b[0mcoins\u001b[0m \u001b[1;33m[\u001b[0m\u001b[1;34m'btc-test'\u001b[0m\u001b[1;33m]\u001b[0m\u001b[1;33m[\u001b[0m\u001b[1;36m1\u001b[0m\u001b[1;33m]\u001b[0m\u001b[1;33m[\u001b[0m\u001b[1;34m'address'\u001b[0m\u001b[1;33m]\u001b[0m\u001b[1;33m\u001b[0m\u001b[1;33m\u001b[0m\u001b[0m\n\u001b[0;32m      3\u001b[0m \u001b[1;31m# def create_tx(coin, account, recipient, amount):\u001b[0m\u001b[1;33m\u001b[0m\u001b[1;33m\u001b[0m\u001b[1;33m\u001b[0m\u001b[0m\n\u001b[1;32m----> 4\u001b[1;33m \u001b[0mBTC_tx\u001b[0m \u001b[1;33m=\u001b[0m \u001b[0mcreate_tx\u001b[0m \u001b[1;33m(\u001b[0m\u001b[1;34m'btc-test'\u001b[0m\u001b[1;33m,\u001b[0m \u001b[0mBTC_act1\u001b[0m\u001b[1;33m,\u001b[0m \u001b[0mBTC_adr2\u001b[0m\u001b[1;33m,\u001b[0m \u001b[1;34m\"1\"\u001b[0m\u001b[1;33m)\u001b[0m\u001b[1;33m\u001b[0m\u001b[1;33m\u001b[0m\u001b[0m\n\u001b[0m",
      "\u001b[1;32m<ipython-input-53-ed270986b14f>\u001b[0m in \u001b[0;36mcreate_tx\u001b[1;34m(coin, account, recipient, amount)\u001b[0m\n\u001b[0;32m     18\u001b[0m \u001b[1;33m\u001b[0m\u001b[0m\n\u001b[0;32m     19\u001b[0m     \u001b[1;32mif\u001b[0m \u001b[0mcoin\u001b[0m \u001b[1;33m==\u001b[0m \u001b[0mBTCTEST\u001b[0m\u001b[1;33m:\u001b[0m\u001b[1;33m\u001b[0m\u001b[1;33m\u001b[0m\u001b[0m\n\u001b[1;32m---> 20\u001b[1;33m         \u001b[1;32mreturn\u001b[0m \u001b[0mPrivateKeyTestnet\u001b[0m\u001b[1;33m.\u001b[0m\u001b[0mprepare_transaction\u001b[0m\u001b[1;33m(\u001b[0m\u001b[0maccount\u001b[0m\u001b[1;33m.\u001b[0m\u001b[0maddress\u001b[0m\u001b[1;33m,\u001b[0m \u001b[1;33m[\u001b[0m\u001b[1;33m(\u001b[0m\u001b[0mrecipient\u001b[0m\u001b[1;33m,\u001b[0m \u001b[0mamount\u001b[0m\u001b[1;33m,\u001b[0m \u001b[0mBTC\u001b[0m\u001b[1;33m)\u001b[0m\u001b[1;33m]\u001b[0m\u001b[1;33m)\u001b[0m\u001b[1;33m\u001b[0m\u001b[1;33m\u001b[0m\u001b[0m\n\u001b[0m\u001b[0;32m     21\u001b[0m     \u001b[1;32melse\u001b[0m\u001b[1;33m:\u001b[0m\u001b[1;33m\u001b[0m\u001b[1;33m\u001b[0m\u001b[0m\n\u001b[0;32m     22\u001b[0m         \u001b[1;32mreturn\u001b[0m \u001b[1;33m(\u001b[0m\u001b[1;34m'error'\u001b[0m\u001b[1;33m)\u001b[0m\u001b[1;33m\u001b[0m\u001b[1;33m\u001b[0m\u001b[0m\n",
      "\u001b[1;32m~\\Anaconda3\\envs\\ethereum\\lib\\site-packages\\bit\\wallet.py\u001b[0m in \u001b[0;36mprepare_transaction\u001b[1;34m(cls, address, outputs, compressed, fee, absolute_fee, leftover, combine, message, unspents, message_is_hex, replace_by_fee)\u001b[0m\n\u001b[0;32m    850\u001b[0m             \u001b[0mversion\u001b[0m\u001b[1;33m=\u001b[0m\u001b[1;34m'test'\u001b[0m\u001b[1;33m,\u001b[0m\u001b[1;33m\u001b[0m\u001b[1;33m\u001b[0m\u001b[0m\n\u001b[0;32m    851\u001b[0m             \u001b[0mmessage_is_hex\u001b[0m\u001b[1;33m=\u001b[0m\u001b[0mmessage_is_hex\u001b[0m\u001b[1;33m,\u001b[0m\u001b[1;33m\u001b[0m\u001b[1;33m\u001b[0m\u001b[0m\n\u001b[1;32m--> 852\u001b[1;33m             \u001b[0mreplace_by_fee\u001b[0m\u001b[1;33m=\u001b[0m\u001b[0mreplace_by_fee\u001b[0m\u001b[1;33m\u001b[0m\u001b[1;33m\u001b[0m\u001b[0m\n\u001b[0m\u001b[0;32m    853\u001b[0m         )\n\u001b[0;32m    854\u001b[0m \u001b[1;33m\u001b[0m\u001b[0m\n",
      "\u001b[1;32m~\\Anaconda3\\envs\\ethereum\\lib\\site-packages\\bit\\transaction.py\u001b[0m in \u001b[0;36msanitize_tx_data\u001b[1;34m(unspents, outputs, fee, leftover, combine, message, compressed, absolute_fee, min_change, version, message_is_hex, replace_by_fee)\u001b[0m\n\u001b[0;32m    403\u001b[0m \u001b[1;33m\u001b[0m\u001b[0m\n\u001b[0;32m    404\u001b[0m     \u001b[1;32mif\u001b[0m \u001b[1;32mnot\u001b[0m \u001b[0munspents\u001b[0m\u001b[1;33m:\u001b[0m\u001b[1;33m\u001b[0m\u001b[1;33m\u001b[0m\u001b[0m\n\u001b[1;32m--> 405\u001b[1;33m         \u001b[1;32mraise\u001b[0m \u001b[0mValueError\u001b[0m\u001b[1;33m(\u001b[0m\u001b[1;34m'Transactions must have at least one unspent.'\u001b[0m\u001b[1;33m)\u001b[0m\u001b[1;33m\u001b[0m\u001b[1;33m\u001b[0m\u001b[0m\n\u001b[0m\u001b[0;32m    406\u001b[0m \u001b[1;33m\u001b[0m\u001b[0m\n\u001b[0;32m    407\u001b[0m     \u001b[1;31m# Temporary storage so all outputs precede messages.\u001b[0m\u001b[1;33m\u001b[0m\u001b[1;33m\u001b[0m\u001b[1;33m\u001b[0m\u001b[0m\n",
      "\u001b[1;31mValueError\u001b[0m: Transactions must have at least one unspent."
     ]
    }
   ],
   "source": [
    "# test with btc delete\n",
    "BTC_adr2 = coins ['btc-test'][1]['address']\n",
    "# def create_tx(coin, account, recipient, amount):\n",
    "BTC_tx = create_tx ('btc-test', BTC_act1, BTC_adr2, 0.01)"
   ]
  },
  {
   "cell_type": "code",
   "execution_count": 2,
   "id": "54028183-949d-441b-9162-3a7d1ba66486",
   "metadata": {},
   "outputs": [],
   "source": [
    "# Create a function called `send_tx` that calls `create_tx`, signs and sends the transaction.\n",
    "def send_tx(coin, account, recipient, amount):\n",
    "    # YOUR CODE HERE\n",
    "    if coin == ETH:\n",
    "        tx = create_tx(account, recipient, amount)\n",
    "        signed_tx = account.sign_transaction(tx)\n",
    "        result = w3.eth.sendRawTransaction(signed_tx.rawTransaction)\n",
    "#     print(result.hex())\n",
    "        return result\n",
    "\n",
    "    if coin == BTCTEST:\n",
    "        return NetworkAPI.broadcast_tx_testnet(signed)\n",
    "    else:\n",
    "        return ('error')\n",
    "        "
   ]
  },
  {
   "cell_type": "code",
   "execution_count": null,
   "id": "3cf91a99-8934-4cda-add0-db4e91479dba",
   "metadata": {},
   "outputs": [],
   "source": []
  }
 ],
 "metadata": {
  "kernelspec": {
   "display_name": "Python 3",
   "language": "python",
   "name": "python3"
  },
  "language_info": {
   "codemirror_mode": {
    "name": "ipython",
    "version": 3
   },
   "file_extension": ".py",
   "mimetype": "text/x-python",
   "name": "python",
   "nbconvert_exporter": "python",
   "pygments_lexer": "ipython3",
   "version": "3.7.10"
  }
 },
 "nbformat": 4,
 "nbformat_minor": 5
}
