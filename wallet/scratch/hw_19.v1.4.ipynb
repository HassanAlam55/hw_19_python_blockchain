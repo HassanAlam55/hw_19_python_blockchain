{
 "cells": [
  {
   "cell_type": "code",
   "execution_count": 1,
   "metadata": {},
   "outputs": [],
   "source": [
    "# Import dependencies\n",
    "import subprocess\n",
    "import json\n",
    "from dotenv import load_dotenv\n"
   ]
  },
  {
   "cell_type": "code",
   "execution_count": 2,
   "metadata": {},
   "outputs": [
    {
     "ename": "ModuleNotFoundError",
     "evalue": "No module named 'web3'",
     "output_type": "error",
     "traceback": [
      "\u001b[1;31m---------------------------------------------------------------------------\u001b[0m",
      "\u001b[1;31mModuleNotFoundError\u001b[0m                       Traceback (most recent call last)",
      "\u001b[1;32m<ipython-input-2-7cdc747683f3>\u001b[0m in \u001b[0;36m<module>\u001b[1;34m\u001b[0m\n\u001b[0;32m      1\u001b[0m \u001b[1;32mfrom\u001b[0m \u001b[0mconstants\u001b[0m \u001b[1;32mimport\u001b[0m \u001b[1;33m*\u001b[0m\u001b[1;33m\u001b[0m\u001b[1;33m\u001b[0m\u001b[0m\n\u001b[1;32m----> 2\u001b[1;33m \u001b[1;32mfrom\u001b[0m \u001b[0mweb3\u001b[0m \u001b[1;32mimport\u001b[0m \u001b[0mWeb3\u001b[0m\u001b[1;33m\u001b[0m\u001b[1;33m\u001b[0m\u001b[0m\n\u001b[0m\u001b[0;32m      3\u001b[0m \u001b[1;32mfrom\u001b[0m \u001b[0meth_account\u001b[0m \u001b[1;32mimport\u001b[0m \u001b[0mAccount\u001b[0m\u001b[1;33m\u001b[0m\u001b[1;33m\u001b[0m\u001b[0m\n\u001b[0;32m      4\u001b[0m \u001b[1;32mfrom\u001b[0m \u001b[0mbit\u001b[0m \u001b[1;32mimport\u001b[0m \u001b[0mwif_to_key\u001b[0m\u001b[1;33m\u001b[0m\u001b[1;33m\u001b[0m\u001b[0m\n\u001b[0;32m      5\u001b[0m \u001b[1;32mfrom\u001b[0m \u001b[0mbit\u001b[0m \u001b[1;32mimport\u001b[0m \u001b[0mPrivateKeyTestnet\u001b[0m\u001b[1;33m\u001b[0m\u001b[1;33m\u001b[0m\u001b[0m\n",
      "\u001b[1;31mModuleNotFoundError\u001b[0m: No module named 'web3'"
     ]
    }
   ],
   "source": [
    "from constants import *\n",
    "from web3 import Web3\n",
    "from eth_account import Account\n",
    "from bit import wif_to_key\n",
    "from bit import PrivateKeyTestnet\n",
    "from bit.network import NetworkAPI\n",
    "from web3.auto.gethdev import w3\n",
    "from web3.middleware import geth_poa_middleware"
   ]
  },
  {
   "cell_type": "code",
   "execution_count": 3,
   "metadata": {},
   "outputs": [],
   "source": [
    "import os"
   ]
  },
  {
   "cell_type": "code",
   "execution_count": null,
   "metadata": {},
   "outputs": [],
   "source": [
    "# !pip install python-dotenv"
   ]
  },
  {
   "cell_type": "code",
   "execution_count": 5,
   "metadata": {},
   "outputs": [],
   "source": [
    "# Load and set environment variables\n",
    "load_dotenv('block.env')\n",
    "mnemonic=os.getenv(\"mnemonic\")"
   ]
  },
  {
   "cell_type": "code",
   "execution_count": 6,
   "metadata": {},
   "outputs": [
    {
     "data": {
      "text/plain": [
       "str"
      ]
     },
     "execution_count": 6,
     "metadata": {},
     "output_type": "execute_result"
    }
   ],
   "source": [
    "# mnemonic\n",
    "type(mnemonic)"
   ]
  },
  {
   "cell_type": "code",
   "execution_count": 7,
   "metadata": {},
   "outputs": [],
   "source": [
    "# Import constants.py and necessary functions from bit and web3\n",
    "# YOUR CODE HERE\n",
    "from constants import *"
   ]
  },
  {
   "cell_type": "code",
   "execution_count": null,
   "metadata": {},
   "outputs": [],
   "source": [
    "# command = 'php C:/Users/Hassan/Dropbox/GithubRepo/ColumbiaFintechLab/HomeWork/hw_19_python_blockchain/wallet/hd-wallet-derive/hd-wallet-derive.php -g --mnemonic=\"barrel attack mammal crash expect note alcohol offer then worth kid current\" --cols=path,address,privkey,pubkey --format=json'"
   ]
  },
  {
   "cell_type": "code",
   "execution_count": 8,
   "metadata": {},
   "outputs": [],
   "source": [
    "# Create a function called `derive_wallets`\n",
    "def derive_wallets(Mnemonic, Coin, Numderive, Format  ):\n",
    "#     command = # YOUR CODE HERE\n",
    "#     command = f'php C:/Users/Hassan/Dropbox/GithubRepo/ColumbiaFintechLab/HomeWork/hw_19_python_blockchain/wallet/hd-wallet-derive/hd-wallet-derive.php -g --mnemonic=\"{Mnemonic}\" --cols=path,address,privkey,pubkey --coin=\"{Coin}\" --numderive=\"{Numderive}\" --format=\"{Format}\"'\n",
    "    command = f'php ./hd-wallet-derive/hd-wallet-derive.php -g --mnemonic=\"{Mnemonic}\" --cols=path,address,privkey,pubkey --coin=\"{Coin}\" --numderive=\"{Numderive}\" --format=\"{Format}\"'\n",
    "    p = subprocess.Popen(command, stdout=subprocess.PIPE, shell=True)\n",
    "    output, err = p.communicate()\n",
    "    p_status = p.wait()\n",
    "    return json.loads(output)"
   ]
  },
  {
   "cell_type": "code",
   "execution_count": 9,
   "metadata": {},
   "outputs": [],
   "source": [
    "# Create a dictionary object called coins to store the output from `derive_wallets`.\n",
    "# coins = # YOUR CODE HERE\n",
    "coins = {\n",
    "    ETH: derive_wallets(mnemonic, ETH, 3,  'json'),\n",
    "    BTCTEST: derive_wallets(mnemonic, BTCTEST, 3,  'json')\n",
    "}"
   ]
  },
  {
   "cell_type": "code",
   "execution_count": 26,
   "metadata": {},
   "outputs": [
    {
     "data": {
      "text/plain": [
       "'barrel attack mammal crash expect note alcohol offer then worth kid current'"
      ]
     },
     "execution_count": 26,
     "metadata": {},
     "output_type": "execute_result"
    }
   ],
   "source": [
    "mnemonic"
   ]
  },
  {
   "cell_type": "code",
   "execution_count": 10,
   "metadata": {},
   "outputs": [
    {
     "data": {
      "text/plain": [
       "{'eth': [{'path': \"m/44'/60'/0'/0/0\",\n",
       "   'address': '0x4777eB1A1ad29C435b9051158E60314CB0C60f96',\n",
       "   'privkey': '0xe59a9585e052a4a7d2e0e85d71cf15b531904f9846a002dea70b2a4ad33ba3fc',\n",
       "   'pubkey': '03be5263fc23b0db31451bae011618b5472ee6577b1a63acdfad3982b25300d964'},\n",
       "  {'path': \"m/44'/60'/0'/0/1\",\n",
       "   'address': '0x70Bd998C8E5b68A86B0666Ec4D33ace4AdAb4e68',\n",
       "   'privkey': '0xe7a541d579efb2beecf7d4e810aaf62d624bb7b4984cd6b9eec34e7c4964b733',\n",
       "   'pubkey': '030ddf97232fa7e4e125f6e24768c39d8ce44e92887d49c5d159726ac29fa8bb28'},\n",
       "  {'path': \"m/44'/60'/0'/0/2\",\n",
       "   'address': '0x341d658cE19663a5A43987162618838dEBC443D6',\n",
       "   'privkey': '0xd82c9c478fd0a26af73b108b2121252e842943e93c135dc0c813981e3e84b11c',\n",
       "   'pubkey': '02cb0fef7919d0f5c4b34e78e28b7389cfbf99efedf51775570dd410679d60ff4b'}],\n",
       " 'btc-test': [{'path': \"m/44'/1'/0'/0/0\",\n",
       "   'address': 'ms4CqLw5Gz1z18ESxy4KXcgn5sWYfxnhzx',\n",
       "   'privkey': 'cQ9GFdiHmRGVYi5Pym3ndA2omGQR2hWUy6rxAFiHVfWHYDtnjZb2',\n",
       "   'pubkey': '02c32877af96f81a89174e36a89474a5998ce024724552b9f9133fd18f9278bfb1'},\n",
       "  {'path': \"m/44'/1'/0'/0/1\",\n",
       "   'address': 'mgLQNbnYcBHcgY5sCAWpQWQacznN3fDzQP',\n",
       "   'privkey': 'cQajcS5qa73DNpngCzqqNBXpjcH3rLPsEctRbf6sHTgAFPCzy9xu',\n",
       "   'pubkey': '038086f5bb9176e8d733372daa380b4da601c2f1973b112a0c291fa2af63b7d5a5'},\n",
       "  {'path': \"m/44'/1'/0'/0/2\",\n",
       "   'address': 'n3s9DzEcNgSCUU67vDRJyKFvV6JJZ4WJy4',\n",
       "   'privkey': 'cSVDhvSh2cPzwxVCnHrHnD2LhsjXEha88tN9v2GLY41bkhwF4ZwF',\n",
       "   'pubkey': '027bc31ca94620a4ede3b8be3ff5626993af7108c7bdc773a13831f8392237c425'}]}"
      ]
     },
     "execution_count": 10,
     "metadata": {},
     "output_type": "execute_result"
    }
   ],
   "source": [
    "coins"
   ]
  },
  {
   "cell_type": "code",
   "execution_count": 11,
   "metadata": {},
   "outputs": [],
   "source": [
    "# Create a function called `priv_key_to_account` that converts privkey strings to account objects.\n",
    "def priv_key_to_account(coin, priv_key):\n",
    "    # YOUR CODE HERE\n",
    "    if coin == ETH:\n",
    "        return Account.privateKeyToAccount(priv_key)# what is account\n",
    "    if coin == BTCTEST:\n",
    "        return PrivateKeyTestnet(priv_key)\n",
    "        \n",
    "    else:\n",
    "        return ('error')"
   ]
  },
  {
   "cell_type": "code",
   "execution_count": 12,
   "metadata": {},
   "outputs": [
    {
     "data": {
      "text/plain": [
       "<eth_account.signers.local.LocalAccount at 0x2ddcc790288>"
      ]
     },
     "execution_count": 12,
     "metadata": {},
     "output_type": "execute_result"
    }
   ],
   "source": [
    "#delete test code\n",
    "eth_coins= coins['eth']\n",
    "eth1 = eth_coins[0]\n",
    "eth_prv_key1 = eth1['privkey']\n",
    "# eth_prf_key1\n",
    "\n",
    "Eth_act1 = priv_key_to_account(ETH, eth_prv_key1)\n",
    "Eth_act1"
   ]
  },
  {
   "cell_type": "code",
   "execution_count": 35,
   "metadata": {},
   "outputs": [
    {
     "data": {
      "text/plain": [
       "'ms4CqLw5Gz1z18ESxy4KXcgn5sWYfxnhzx'"
      ]
     },
     "execution_count": 35,
     "metadata": {},
     "output_type": "execute_result"
    }
   ],
   "source": [
    "# debug test code\n",
    "BTC_prv_key1 = coins ['btc-test'][0]['privkey']\n",
    "BTC_prv_key1\n",
    "BTC_act1 = priv_key_to_account ('btc-test',BTC_prv_key1 )\n",
    "BTC_act1.address"
   ]
  },
  {
   "cell_type": "code",
   "execution_count": 44,
   "metadata": {},
   "outputs": [],
   "source": [
    "# Create a function called `create_tx` that creates an unsigned transaction appropriate metadata.\n",
    "def create_tx(coin, account, recipient, amount):\n",
    "    # YOUR CODE HERE\n",
    "    # YOUR CODE HERE\n",
    "    if coin == ETH:\n",
    "       # need to fix parameters\n",
    "        gasEstimate = w3.eth.estimateGas(\n",
    "            {\"from\": account.address, \"to\": recipient, \"value\": int(amount)}\n",
    "            )\n",
    "        return {\n",
    "            \"from\": account.address,\n",
    "            \"to\": recipient,\n",
    "            \"value\": amount,\n",
    "            \"gasPrice\": w3.eth.gasPrice,\n",
    "            \"gas\": gasEstimate,\n",
    "            \"nonce\": w3.eth.getTransactionCount(account.address),\n",
    "            }\n",
    "    \n",
    "    if coin == BTCTEST:\n",
    "        return PrivateKeyTestnet.prepare_transaction(account.address, [(recipient, amount, BTC)])\n",
    "    else:\n",
    "        return ('error')\n",
    "        "
   ]
  },
  {
   "cell_type": "code",
   "execution_count": 31,
   "metadata": {},
   "outputs": [
    {
     "data": {
      "text/plain": [
       "{'from': '0x4777eB1A1ad29C435b9051158E60314CB0C60f96',\n",
       " 'to': '0x70Bd998C8E5b68A86B0666Ec4D33ace4AdAb4e68',\n",
       " 'value': 1.0,\n",
       " 'gasPrice': 20000000000,\n",
       " 'gas': 21000,\n",
       " 'nonce': 0}"
      ]
     },
     "execution_count": 31,
     "metadata": {},
     "output_type": "execute_result"
    }
   ],
   "source": [
    "# delete test code \n",
    "eth_adr2 = coins['eth'][1]['address']\n",
    "eth_tx = create_tx(ETH,Eth_act1, eth_adr2, 1.0 )\n",
    "eth_tx"
   ]
  },
  {
   "cell_type": "code",
   "execution_count": 53,
   "metadata": {},
   "outputs": [
    {
     "data": {
      "text/plain": [
       "'{\"unspents\":[{\"amount\":33896,\"confirmations\":0,\"script\":\"76a9147e926a572b081168f49aa05ce14e3ebc972912d988ac\",\"txid\":\"0a5551917a010536a0819ca649614a172e1c2e03a33dfcdc0273c022b985be9b\",\"txindex\":1,\"type\":\"p2pkh\",\"vsize\":148,\"segwit\":false,\"sequence\":4294967295}],\"outputs\":[[\"mgLQNbnYcBHcgY5sCAWpQWQacznN3fDzQP\",10000],[\"ms4CqLw5Gz1z18ESxy4KXcgn5sWYfxnhzx\",844]]}'"
      ]
     },
     "execution_count": 53,
     "metadata": {},
     "output_type": "execute_result"
    }
   ],
   "source": [
    "# test with btc delete\n",
    "BTC_adr2 = coins ['btc-test'][1]['address']\n",
    "# def create_tx(coin, account, recipient, amount):\n",
    "BTC_tx = create_tx ('btc-test', BTC_act1, BTC_adr2, 0.0001)\n",
    "BTC_tx"
   ]
  },
  {
   "cell_type": "code",
   "execution_count": 27,
   "metadata": {},
   "outputs": [],
   "source": [
    "# delete test code\n",
    "eth_adr2 = coins['eth'][1]['address']\n",
    "# eth_ret = create_tx(ETH,Eth_act1, eth_adr2, 0.01  )\n",
    "# w3 = Web3(Web3.HTTPProvider('http://localhost:8545'))\n",
    "# HTTP://127.0.0.1:8545\n",
    "w3 = Web3(Web3.HTTPProvider('http://127.0.0.1:8545'))\n",
    "account = Eth_act1\n",
    "recipient = eth_adr2\n",
    "amount = 2.0\n",
    "# w3.middleware_onion.inject(geth_poa_middleware, layer=0)\n",
    "# w3.eth.setGasPriceStrategy(medium_gas_price_strategy)\n"
   ]
  },
  {
   "cell_type": "code",
   "execution_count": 24,
   "metadata": {},
   "outputs": [
    {
     "data": {
      "text/plain": [
       "'0x70Bd998C8E5b68A86B0666Ec4D33ace4AdAb4e68'"
      ]
     },
     "execution_count": 24,
     "metadata": {},
     "output_type": "execute_result"
    }
   ],
   "source": [
    "# delete test code\n",
    "# recipient"
   ]
  },
  {
   "cell_type": "code",
   "execution_count": 28,
   "metadata": {},
   "outputs": [],
   "source": [
    "# delete test code\n",
    "# gasEstimate = w3.eth.estimateGas(\n",
    "#             {\"from\": account.address, \"to\": recipient, \"value\": int(amount)}\n",
    "#             )"
   ]
  },
  {
   "cell_type": "code",
   "execution_count": 47,
   "metadata": {},
   "outputs": [],
   "source": [
    "# Create a function called `send_tx` that calls `create_tx`, signs and sends the transaction.\n",
    "def send_tx(coin, account, recipient, amount):\n",
    "    # YOUR CODE HERE\n",
    "    tx = create_tx(coin, account, recipient, amount)\n",
    "    signed_tx = account.sign_transaction(tx)\n",
    "    if coin == ETH:\n",
    "        result = w3.eth.sendRawTransaction(signed_tx.rawTransaction)\n",
    "        return result\n",
    "\n",
    "    if coin == BTCTEST:      \n",
    "        return NetworkAPI.broadcast_tx_testnet(signed_tx)\n",
    "    else:\n",
    "        return ('error')\n",
    "        "
   ]
  },
  {
   "cell_type": "code",
   "execution_count": 51,
   "metadata": {},
   "outputs": [
    {
     "data": {
      "text/plain": [
       "HexBytes('0x278a9f52c6bbe2ae9aa8d7fcfceace6ae885bdbd5c4c439b533263d8ab8cf0cc')"
      ]
     },
     "execution_count": 51,
     "metadata": {},
     "output_type": "execute_result"
    }
   ],
   "source": [
    "# delete test code\n",
    "eth_send = send_tx(ETH,Eth_act1, eth_adr2, 2)\n",
    "eth_send"
   ]
  },
  {
   "cell_type": "code",
   "execution_count": 56,
   "metadata": {},
   "outputs": [],
   "source": [
    "btc_send = send_tx('btc-test', BTC_act1, BTC_adr2, 0.0001)\n",
    "btc_send"
   ]
  },
  {
   "cell_type": "code",
   "execution_count": 55,
   "metadata": {},
   "outputs": [
    {
     "data": {
      "text/plain": [
       "'mgLQNbnYcBHcgY5sCAWpQWQacznN3fDzQP'"
      ]
     },
     "execution_count": 55,
     "metadata": {},
     "output_type": "execute_result"
    }
   ],
   "source": [
    "BTC_act1\n",
    "BTC_adr2"
   ]
  },
  {
   "cell_type": "code",
   "execution_count": 57,
   "metadata": {},
   "outputs": [],
   "source": [
    "loc_eth_adr = '0x20AB545aFF9eDA6841C885D0027b978cd18d9bd5'\n",
    "net_name = 'puppethonastring'\n",
    "w3.middleware_onion.inject(geth_poa_middleware, layer=0)"
   ]
  },
  {
   "cell_type": "code",
   "execution_count": null,
   "metadata": {},
   "outputs": [],
   "source": [
    "# http://127.0.0.1:8545/\n",
    "puppethonastring.json"
   ]
  }
 ],
 "metadata": {
  "kernelspec": {
   "display_name": "Python 3",
   "language": "python",
   "name": "python3"
  },
  "language_info": {
   "codemirror_mode": {
    "name": "ipython",
    "version": 3
   },
   "file_extension": ".py",
   "mimetype": "text/x-python",
   "name": "python",
   "nbconvert_exporter": "python",
   "pygments_lexer": "ipython3",
   "version": "3.7.9"
  }
 },
 "nbformat": 4,
 "nbformat_minor": 5
}
